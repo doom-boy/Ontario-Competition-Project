{
 "cells": [
  {
   "cell_type": "code",
   "execution_count": null,
   "id": "182a58c5-907d-4abf-8553-b13fb98817ef",
   "metadata": {},
   "outputs": [],
   "source": []
  }
 ],
 "metadata": {
  "kernelspec": {
   "display_name": "",
   "name": ""
  },
  "language_info": {
   "name": ""
  }
 },
 "nbformat": 4,
 "nbformat_minor": 5
}
